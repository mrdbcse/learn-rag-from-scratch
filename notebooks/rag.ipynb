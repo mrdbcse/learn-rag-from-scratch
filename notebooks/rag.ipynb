{
 "cells": [
  {
   "cell_type": "markdown",
   "id": "cd064ae0",
   "metadata": {},
   "source": [
    "#### Environment\n"
   ]
  },
  {
   "cell_type": "code",
   "execution_count": 29,
   "id": "00fa2079",
   "metadata": {},
   "outputs": [],
   "source": [
    "import os\n",
    "\n",
    "os.environ[\"LANGCHAIN_TRACING_V2\"] = \"true\"\n",
    "os.environ[\"LANGCHAIN_ENDPOINT\"] = \"https://api.smith.langchain.com\""
   ]
  },
  {
   "cell_type": "markdown",
   "id": "b4cae27f",
   "metadata": {},
   "source": [
    "###### API Keys\n"
   ]
  },
  {
   "cell_type": "code",
   "execution_count": 30,
   "id": "a5c2f464",
   "metadata": {},
   "outputs": [],
   "source": [
    "os.environ[\"OPENAI_API_KEY\"] = os.getenv(\"OPENAI_API_KEY\")\n",
    "os.environ[\"LANGCHAIN_API_KEY\"] = os.getenv(\"LANGCHAIN_API_KEY\")"
   ]
  },
  {
   "cell_type": "code",
   "execution_count": null,
   "id": "b468d6a8",
   "metadata": {},
   "outputs": [],
   "source": [
    "import tiktoken\n",
    "from langchain_core.documents import Document\n",
    "\n",
    "\n",
    "def count_tokens(text: str, encoding_name: str = \"cl100k_base\") -> int:\n",
    "    enc = tiktoken.get_encoding(encoding_name=encoding_name)\n",
    "    return len(enc.encode(text=text))\n",
    "\n",
    "\n",
    "def format_documents(docs: list[Document]) -> str:\n",
    "    combined = \"\\n\\n\".join(doc.page_content for doc in docs)\n",
    "    return combined"
   ]
  },
  {
   "cell_type": "markdown",
   "id": "d7754f80",
   "metadata": {},
   "source": [
    "1. Overview (2-3-4)\n",
    "2. Indexing\n",
    "3. Retrieval\n",
    "4. Generation"
   ]
  },
  {
   "cell_type": "code",
   "execution_count": 34,
   "id": "f9ba7926",
   "metadata": {},
   "outputs": [],
   "source": [
    "# imports\n",
    "from langchain import hub\n",
    "from langchain.prompts import ChatPromptTemplate\n",
    "from langchain.text_splitter import RecursiveCharacterTextSplitter\n",
    "from langchain_community.document_loaders import PyPDFLoader\n",
    "from langchain_community.vectorstores import Chroma\n",
    "from langchain_core.output_parsers import StrOutputParser\n",
    "from langchain_core.runnables import RunnablePassthrough\n",
    "from langchain_openai import ChatOpenAI, OpenAIEmbeddings"
   ]
  },
  {
   "cell_type": "code",
   "execution_count": 27,
   "id": "756f3bb5",
   "metadata": {},
   "outputs": [],
   "source": [
    "query = \"What is Attention is all you need?\""
   ]
  },
  {
   "cell_type": "markdown",
   "id": "2b49c509",
   "metadata": {},
   "source": [
    "### Indexing"
   ]
  },
  {
   "cell_type": "code",
   "execution_count": null,
   "id": "9603d66f",
   "metadata": {},
   "outputs": [
    {
     "name": "stdout",
     "output_type": "stream",
     "text": [
      "Total Tokens: 8952\n"
     ]
    }
   ],
   "source": [
    "# Load documents\n",
    "docs = PyPDFLoader(\"../documents/NIPS-2017-attention-is-all-you-need-Paper.pdf\").load()\n",
    "\n",
    "# Split\n",
    "split_docs = RecursiveCharacterTextSplitter(\n",
    "    chunk_size=1500, chunk_overlap=200\n",
    ").split_documents(documents=docs)\n",
    "\n",
    "combined = format_documents(docs=split_docs)\n",
    "tokens = count_tokens(text=combined)\n",
    "\n",
    "print(f\"Total Tokens: {tokens}\")"
   ]
  },
  {
   "cell_type": "markdown",
   "id": "5d6beeb1",
   "metadata": {},
   "source": [
    "### Retrieval"
   ]
  },
  {
   "cell_type": "code",
   "execution_count": 28,
   "metadata": {},
   "outputs": [
    {
     "name": "stdout",
     "output_type": "stream",
     "text": [
      "1\n"
     ]
    }
   ],
   "source": [
    "# Embed\n",
    "vector_store = Chroma.from_documents(documents=split_docs, embedding=OpenAIEmbeddings())\n",
    "retriever = vector_store.as_retriever(search_kwargs={\"k\": 1})\n",
    "\n",
    "docs = retriever.get_relevant_documents(query=query)\n",
    "\n",
    "print(len(docs))"
   ]
  },
  {
   "cell_type": "markdown",
   "id": "59746b5e",
   "metadata": {},
   "source": [
    "### Generation"
   ]
  },
  {
   "cell_type": "code",
   "execution_count": 32,
   "id": "7977f5ad",
   "metadata": {},
   "outputs": [
    {
     "name": "stdout",
     "output_type": "stream",
     "text": [
      "input_variables=['context', 'question'] input_types={} partial_variables={} metadata={'lc_hub_owner': 'rlm', 'lc_hub_repo': 'rag-prompt', 'lc_hub_commit_hash': '50442af133e61576e74536c6556cefe1fac147cad032f4377b60c436e6cdcb6e'} messages=[HumanMessagePromptTemplate(prompt=PromptTemplate(input_variables=['context', 'question'], input_types={}, partial_variables={}, template=\"You are an assistant for question-answering tasks. Use the following pieces of retrieved context to answer the question. If you don't know the answer, just say that you don't know. Use three sentences maximum and keep the answer concise.\\nQuestion: {question} \\nContext: {context} \\nAnswer:\"), additional_kwargs={})]\n"
     ]
    }
   ],
   "source": [
    "# prompt\n",
    "prompt_from_hub = hub.pull(\"rlm/rag-prompt\")\n",
    "print(prompt_from_hub)"
   ]
  },
  {
   "cell_type": "code",
   "execution_count": 35,
   "id": "f10c9d8b",
   "metadata": {},
   "outputs": [
    {
     "name": "stdout",
     "output_type": "stream",
     "text": [
      "input_variables=['context', 'question'] input_types={} partial_variables={} messages=[HumanMessagePromptTemplate(prompt=PromptTemplate(input_variables=['context', 'question'], input_types={}, partial_variables={}, template='Answer the question based on the following context:\\n{context}\\n\\nQuestion: {question}\\n'), additional_kwargs={})]\n"
     ]
    }
   ],
   "source": [
    "template = \"\"\"Answer the question based on the following context:\n",
    "{context}\n",
    "\n",
    "Question: {question}\n",
    "\"\"\"\n",
    "\n",
    "prompt = ChatPromptTemplate.from_template(template=template)\n",
    "print(prompt)"
   ]
  },
  {
   "cell_type": "code",
   "execution_count": 37,
   "id": "fa857724",
   "metadata": {},
   "outputs": [],
   "source": [
    "# LLM\n",
    "llm = ChatOpenAI(model=\"gpt-5\", temperature=0)"
   ]
  },
  {
   "cell_type": "code",
   "execution_count": 36,
   "id": "45b94eea",
   "metadata": {},
   "outputs": [],
   "source": [
    "# chain\n",
    "chain = prompt | llm"
   ]
  },
  {
   "cell_type": "code",
   "execution_count": 39,
   "id": "6eacf470",
   "metadata": {},
   "outputs": [
    {
     "name": "stdout",
     "output_type": "stream",
     "text": [
      "“Attention Is All You Need” is a 2017 NeurIPS paper by Vaswani et al. that introduced the Transformer: an encoder–decoder neural network built entirely on attention (no recurrence or convolutions). It showed superior machine translation quality, greater parallelism, and faster training than prior RNN/CNN-based models, achieving state-of-the-art BLEU scores on WMT14 English–German and English–French.\n"
     ]
    }
   ],
   "source": [
    "res = chain.invoke({\"context\": docs, \"question\": query})\n",
    "print(res.content)"
   ]
  },
  {
   "cell_type": "code",
   "execution_count": 40,
   "id": "b78e1606",
   "metadata": {},
   "outputs": [
    {
     "name": "stdout",
     "output_type": "stream",
     "text": [
      "“Attention Is All You Need” is a 2017 research paper by Vaswani et al. that introduces the Transformer, a sequence-to-sequence neural network architecture based entirely on attention (no recurrence or convolutions). It showed superior translation quality, better parallelism, and faster training, achieving state-of-the-art BLEU scores on WMT’14 English–German and English–French tasks.\n"
     ]
    }
   ],
   "source": [
    "rag_chain = (\n",
    "    {\"context\": retriever | format_documents, \"question\": RunnablePassthrough()}\n",
    "    | prompt\n",
    "    | llm\n",
    "    | StrOutputParser()\n",
    ")\n",
    "\n",
    "response = rag_chain.invoke(query)\n",
    "\n",
    "print(response)"
   ]
  }
 ],
 "metadata": {
  "kernelspec": {
   "display_name": "venv",
   "language": "python",
   "name": "python3"
  },
  "language_info": {
   "codemirror_mode": {
    "name": "ipython",
    "version": 3
   },
   "file_extension": ".py",
   "mimetype": "text/x-python",
   "name": "python",
   "nbconvert_exporter": "python",
   "pygments_lexer": "ipython3",
   "version": "3.12.4"
  }
 },
 "nbformat": 4,
 "nbformat_minor": 5
}
